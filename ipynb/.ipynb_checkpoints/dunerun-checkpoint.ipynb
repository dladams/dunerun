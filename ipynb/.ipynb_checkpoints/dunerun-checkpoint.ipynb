{
 "cells": [
  {
   "cell_type": "code",
   "execution_count": null,
   "id": "7440d430-e5e0-4e1c-9ee9-f683ee5cf2df",
   "metadata": {},
   "outputs": [],
   "source": []
  },
  {
   "cell_type": "code",
   "execution_count": 1,
   "id": "2c8b1254-7596-4412-943d-09ed35f2d66d",
   "metadata": {},
   "outputs": [
    {
     "data": {
      "text/plain": [
       "['/home/dladams',\n",
       " '/opt/conda/lib/python38.zip',\n",
       " '/opt/conda/lib/python3.8',\n",
       " '/opt/conda/lib/python3.8/lib-dynload',\n",
       " '',\n",
       " '/opt/conda/lib/python3.8/site-packages']"
      ]
     },
     "execution_count": 1,
     "metadata": {},
     "output_type": "execute_result"
    }
   ],
   "source": [
    "import sys\n",
    "sys.path"
   ]
  },
  {
   "cell_type": "code",
   "execution_count": 2,
   "id": "e9ece502-6164-4654-9924-ed6e78efc083",
   "metadata": {},
   "outputs": [
    {
     "data": {
      "text/plain": [
       "['/home/dladams/proc/install/dunesw-support/python',\n",
       " '/home/dladams/proc/install/dunesw-support/python',\n",
       " '/home/dladams',\n",
       " '/opt/conda/lib/python38.zip',\n",
       " '/opt/conda/lib/python3.8',\n",
       " '/opt/conda/lib/python3.8/lib-dynload',\n",
       " '',\n",
       " '/opt/conda/lib/python3.8/site-packages']"
      ]
     },
     "execution_count": 2,
     "metadata": {},
     "output_type": "execute_result"
    }
   ],
   "source": [
    "%run ~/proc/install/dunesw-support/python/setup.py\n",
    "import dunerun\n",
    "sys.path"
   ]
  },
  {
   "cell_type": "code",
   "execution_count": 37,
   "id": "5fb920b5-4020-42cb-9d9b-57f3032ffadf",
   "metadata": {},
   "outputs": [
    {
     "name": "stdout",
     "output_type": "stream",
     "text": [
      "-------------------------------------\n",
      "Tue Feb 15 15:43:51 UTC 2022\n",
      "-------------------------------------\n",
      "total 1462\n",
      "   0 drwxr-xr-x. 2 dladams fnalgrid       2 Jan 20 16:18 bin\n",
      "  13 -rwx------. 1 dladams fnalgrid   13180 Jan 20 16:28 checkPrerequisites\n",
      "1436 -rw-r--r--. 1 dladams fnalgrid 1470373 Feb  9 17:13 display.ipynb\n",
      "   1 -rwxr-xr-x. 1 dladams fnalgrid     198 Feb  9 14:23 drun\n",
      "   5 -rw-r--r--. 1 dladams fnalgrid    4140 Feb 15 15:42 drun.ipynb\n",
      "   0 drwxr-xr-x. 9 dladams fnalgrid       7 Feb  7 15:30 proc\n",
      "   0 drwxr-xr-x. 3 dladams fnalgrid       1 Jan 31 15:08 tmp\n",
      "   1 -rw-r--r--. 1 dladams fnalgrid     616 Feb 14 16:38 Untitled1.ipynb\n",
      "   7 -rw-r--r--. 1 dladams fnalgrid    6495 Feb 14 17:16 Untitled2.ipynb\n",
      "-------------------------------------\n"
     ]
    }
   ],
   "source": [
    "line = \"-------------------------------------\"\n",
    "shell = dunerun.DuneRun()\n",
    "print(line)\n",
    "shell.run('date')\n",
    "print(line)\n",
    "shell.run('ls -ls')\n",
    "print(line)"
   ]
  },
  {
   "cell_type": "code",
   "execution_count": 38,
   "id": "7685aa77-f478-4583-9c24-fb7462f1463c",
   "metadata": {},
   "outputs": [
    {
     "name": "stdout",
     "output_type": "stream",
     "text": [
      "-------------------------------------\n",
      "Setting up larsoft UPS area... /cvmfs/larsoft.opensciencegrid.org/products/\n",
      "Setting up DUNE UPS area... /cvmfs/dune.opensciencegrid.org/products/dune/\n",
      "BASH_EXECUTION_STRING=' source /home/dladams/proc/install/dunesw-support/bin/setup-dune.sh; set | grep DUNE'\n",
      "CVMFS_DUNE_DIR=/cvmfs/dune.opensciencegrid.org/products/dune/\n",
      "DUNE_OSLIBS_DIR=/cvmfs/dune.opensciencegrid.org/products/dune/dune_oslibs/v1_0_0/Linux64bit+3.10-2.17\n",
      "DUNE_OSLIBS_LIB=/cvmfs/dune.opensciencegrid.org/products/dune/dune_oslibs/v1_0_0/Linux64bit+3.10-2.17/lib\n",
      "DUNE_OSLIBS_VERSION=v1_0_0\n",
      "FERMIAPP_DUNE_DIR=/grid/fermiapp/products/dune/\n",
      "SETUP_DUNE_OSLIBS='dune_oslibs v1_0_0 -f Linux64bit+3.10-2.17 -z /cvmfs/dune.opensciencegrid.org/products/dune'\n",
      "-------------------------------------\n",
      "Setting up larsoft UPS area... /cvmfs/larsoft.opensciencegrid.org/products/\n",
      "Setting up DUNE UPS area... /cvmfs/dune.opensciencegrid.org/products/dune/\n",
      "\"dunesw\" \"v09_41_00_02\" \"Linux64bit+3.10-2.17\" \"e20:prof\" \"\" \n",
      "\"dunesw\" \"v09_41_00_02\" \"Linux64bit+3.10-2.17\" \"debug:e20\" \"\" \n",
      "\"dunesw\" \"v09_41_00_02\" \"Linux64bit+3.10-2.17\" \"c7:debug\" \"\" \n",
      "\"dunesw\" \"v09_41_00_02\" \"Linux64bit+3.10-2.17\" \"c7:prof\" \"\" \n",
      "\"dunesw\" \"v09_42_00\" \"Linux64bit+3.10-2.17\" \"e20:prof\" \"\" \n",
      "\"dunesw\" \"v09_42_00\" \"Linux64bit+3.10-2.17\" \"debug:e20\" \"\" \n",
      "\"dunesw\" \"v09_42_00\" \"Linux64bit+3.10-2.17\" \"c7:prof\" \"\" \n",
      "\"dunesw\" \"v09_42_00\" \"Linux64bit+3.10-2.17\" \"c7:debug\" \"\" \n",
      "\"dunesw\" \"v09_42_00_01\" \"Linux64bit+3.10-2.17\" \"c7:debug\" \"\" \n",
      "\"dunesw\" \"v09_42_00_01\" \"Linux64bit+3.10-2.17\" \"c7:prof\" \"\" \n",
      "\"dunesw\" \"v09_42_00_01\" \"Linux64bit+3.10-2.17\" \"debug:e20\" \"\" \n",
      "\"dunesw\" \"v09_42_00_01\" \"Linux64bit+3.10-2.17\" \"e20:prof\" \"\" \n",
      "\"dunesw\" \"v09_42_02_00\" \"Linux64bit+3.10-2.17\" \"e20:prof\" \"\" \n",
      "\"dunesw\" \"v09_42_02_00\" \"Linux64bit+3.10-2.17\" \"debug:e20\" \"\" \n",
      "\"dunesw\" \"v09_42_02_00\" \"Linux64bit+3.10-2.17\" \"c7:debug\" \"\" \n",
      "\"dunesw\" \"v09_42_02_00\" \"Linux64bit+3.10-2.17\" \"c7:prof\" \"\" \n",
      "\"dunesw\" \"v09_42_03_00\" \"Linux64bit+3.10-2.17\" \"c7:prof\" \"\" \n",
      "\"dunesw\" \"v09_42_03_00\" \"Linux64bit+3.10-2.17\" \"debug:e20\" \"\" \n",
      "\"dunesw\" \"v09_42_03_00\" \"Linux64bit+3.10-2.17\" \"c7:debug\" \"\" \n",
      "\"dunesw\" \"v09_42_03_00\" \"Linux64bit+3.10-2.17\" \"e20:prof\" \"\" \n",
      "-------------------------------------\n"
     ]
    }
   ],
   "source": [
    "dune = dunerun.DuneRun('dune')\n",
    "print(line)\n",
    "dune.run('set | grep DUNE')\n",
    "print(line)\n",
    "dune.run('ups list -aK+ dunesw')\n",
    "print(line)"
   ]
  },
  {
   "cell_type": "code",
   "execution_count": null,
   "id": "c1e0da02-a565-4536-9be4-acabc8c8a1c7",
   "metadata": {},
   "outputs": [],
   "source": []
  },
  {
   "cell_type": "code",
   "execution_count": null,
   "id": "537b9f4c-ae99-4f3e-98cc-507e6e8e2e16",
   "metadata": {},
   "outputs": [],
   "source": []
  }
 ],
 "metadata": {
  "kernelspec": {
   "display_name": "Python 3 (ipykernel)",
   "language": "python",
   "name": "python3"
  },
  "language_info": {
   "codemirror_mode": {
    "name": "ipython",
    "version": 3
   },
   "file_extension": ".py",
   "mimetype": "text/x-python",
   "name": "python",
   "nbconvert_exporter": "python",
   "pygments_lexer": "ipython3",
   "version": "3.8.6"
  }
 },
 "nbformat": 4,
 "nbformat_minor": 5
}
