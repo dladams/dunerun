{
 "cells": [
  {
   "cell_type": "markdown",
   "id": "48d1ac21-662f-404c-9cda-308aa204d1ec",
   "metadata": {},
   "source": [
    "# dunedata.ipynb\n",
    "This notebook uses dunerun to search for some DUNE data. \n",
    "\n",
    "## Introduction\n",
    "\n",
    "First connect to a Jupyter machine where DUNE cvmfs is available e.g. <https://analytics-hub.fnal.gov>, open a terminal and and follow the [instructions](https://github.com/dladams/dunesw-support#readme) to install *dunerun*.\n",
    "Here we assume the package is installed at ~/proc/install/common/dunerun but any location is fine.  \n",
    "\n",
    "Copy this noteboook dunerun.ipynb from the installation area to a directory of your choosing and open the copy on Jupyter.\n",
    "Since you are reading this, you may have already done so.  \n",
    "\n",
    "Run the *dunerun* setup (change the location to match your installation) and import dunerun and other packages of interest:"
   ]
  },
  {
   "cell_type": "code",
   "execution_count": 1,
   "id": "337194de-c89d-476a-bc0a-47d8f11f98b9",
   "metadata": {},
   "outputs": [
    {
     "name": "stdout",
     "output_type": "stream",
     "text": [
      "dunerun version is 1.0.6\n"
     ]
    }
   ],
   "source": [
    "%run ~/proc/install/common/dunerun/python/setup.py\n",
    "import sys\n",
    "import os\n",
    "import dunerun\n",
    "print(f\"dunerun version is {dunerun.version()}\")\n",
    "dsw = None\n",
    "check_proxy = True                  # Set this False to skip the proxy check and generation\n",
    "have_nopassword_kinit = False       # Set this True if kinit w/o password is enabled\n",
    "def check_proxy(doprint):           # Function to check if user has a proxy. Function is defined because we do this twice.\n",
    "    need_proxy = False\n",
    "    if doprint: print(f\">>>>> Checking VOMS proxy.\")\n",
    "    voms_out = os.system('voms-proxy-info -exists -valid 0:5')\n",
    "    stat = int(voms_out)\n",
    "    return stat != 0"
   ]
  },
  {
   "cell_type": "markdown",
   "id": "bafdb772-53ab-4a64-9028-1121515a7632",
   "metadata": {
    "tags": []
   },
   "source": [
    "## List releases\n",
    "\n",
    "Uncomment the following if you want to see a list of available versions of dunesw."
   ]
  },
  {
   "cell_type": "code",
   "execution_count": 2,
   "id": "0dd867ed-c073-47de-be51-a2f97318ec29",
   "metadata": {},
   "outputs": [],
   "source": [
    "#dunerun.DuneRun('dune').run('ups list -aK+ dunesw')"
   ]
  },
  {
   "cell_type": "markdown",
   "id": "3b032fab-5723-47de-ad9c-9545efd40a4a",
   "metadata": {},
   "source": [
    "## VOMS proxy\n",
    "\n",
    "Access to DUNE data requires a VOMS proxy which can be otained with kerberos credentials. The following lines run system commands to check if we have such credentials and such a proxy. Not use of the Ipython magic '!' to run a system command and capture the ouput.  \n",
    "\n",
    "The kx509 package used in generating the proxy is not installed on the FNAL analysis platform and so we used *DuneRun* with the *dune* environment to set up that package from cvmfs.\n",
    "\n",
    "The following block generates the credentials and proxy if they are needed. The 'Setup AC' warning is annoying but harmless. it and the need to set up the kx509 product are because kx509 is not installed."
   ]
  },
  {
   "cell_type": "code",
   "execution_count": 3,
   "id": "d9588f98-0b3f-4d44-a46b-b8c3c9e17c90",
   "metadata": {},
   "outputs": [
    {
     "name": "stdout",
     "output_type": "stream",
     "text": [
      "Thu Mar 17 13:01:22 UTC 2022\n",
      "-------------------------------------------------------------\n",
      ">>>>> Checking VOMS proxy.\n",
      "-------------------------------------------------------------\n"
     ]
    }
   ],
   "source": [
    "linesep = '-------------------------------------------------------------'\n",
    "need_cred = False\n",
    "need_proxy = False\n",
    "if check_proxy:\n",
    "    !date\n",
    "    print(linesep)\n",
    "    need_proxy = check_proxy(True)\n",
    "    if need_proxy:\n",
    "        print('>>>>> ERROR: VOMS proxy not found.')\n",
    "        print(f\"{linesep}\\n>>>>> Checking kerberos.\")\n",
    "        klist_out = !klist\n",
    "        for line in klist_out:\n",
    "            print(line)\n",
    "        if 'No credentials' in klist_out[0]:\n",
    "            print('>>>>> ERROR: Kerberos credentials not found.')\n",
    "            if not have_nopassword_kinit:\n",
    "                raise Exception('>>>>> Run kinit in a terminal and restart notebook.')\n",
    "            need_cred = True\n",
    "    print(linesep)\n",
    "else:\n",
    "    print('Skipped proxy check')"
   ]
  },
  {
   "cell_type": "code",
   "execution_count": 4,
   "id": "a3526f86-2111-4c62-9470-9d7207ef7777",
   "metadata": {},
   "outputs": [],
   "source": [
    "if need_cred:\n",
    "    if have_nopassword_kinit:\n",
    "        !kinit\n",
    "        need_cred = False\n",
    "    else:\n",
    "        raise Exception('>>>>> Run kinit in a terminal and restart notebook.')\n",
    "if need_proxy:\n",
    "    dune = dunerun.DuneRun('dune', shell=True)\n",
    "    dune.run('setup kx509')\n",
    "    dune.run('kx509 --minhours 12')\n",
    "    dune.run('voms-proxy-init -noregen -rfc -voms dune:/dune/Role=Analysis')\n",
    "    if check_proxy(False): raise Exception('Unable to obtain proxy.')\n",
    "    print(line)"
   ]
  },
  {
   "cell_type": "markdown",
   "id": "f22c03c0-30ee-4a2a-88b8-98fac82b6c88",
   "metadata": {},
   "source": [
    "## Set up a release\n",
    "\n",
    "Use *DuneRun* to start a process using a DUNE release."
   ]
  },
  {
   "cell_type": "code",
   "execution_count": 5,
   "id": "537b9f4c-ae99-4f3e-98cc-507e6e8e2e16",
   "metadata": {},
   "outputs": [
    {
     "name": "stderr",
     "output_type": "stream",
     "text": [
      "Setting up dunesw v09_45_00_00 e20:prof\n"
     ]
    },
    {
     "name": "stdout",
     "output_type": "stream",
     "text": [
      "Welcome to dunetpc \n",
      "Some available commands:\n",
      "              duneHelp - Display information about the current setup of dunetpc.\n",
      "                   lar - Run the art/larsoft event looop e.g. to process event data.\n",
      "  product_sizes_dumper - Display the products and size in an event data file.\n",
      "               fcldump - Display the resolved configuration for a fcl file.\n",
      "               liblist - List available plugin libraries.\n",
      "        pdChannelRange - Display protoDUNE channel grops and ranges.\n",
      "           duneRunData - Display run data for a run.\n",
      "           duneTestFcl - Test some high-level fcl configurations.\n",
      "Use option \"-h\" with any of these for more information.\n"
     ]
    }
   ],
   "source": [
    "if dsw is None:\n",
    "    dsw = dunerun.DuneRun('dunesw', 'v09_45_00_00:e20:prof', shell=True)\n",
    "    dsw.run('duneHelp')"
   ]
  },
  {
   "cell_type": "markdown",
   "id": "bce5daf8-2a38-4c5b-96f6-da8c35e8b4af",
   "metadata": {},
   "source": [
    "## Finding data\n",
    "\n",
    "The samweb command can be used to find DUNE data. If enabled, the first block shows some help messages.  \n",
    "\n",
    "The next blocks showing how to list all the raw data files for a protDUNE run, find the URL(s) for one of those files and then open the file with Root."
   ]
  },
  {
   "cell_type": "code",
   "execution_count": 6,
   "id": "5a9df8d8-b6a0-436b-b273-77aea56ecb37",
   "metadata": {},
   "outputs": [],
   "source": [
    "if False:\n",
    "    dsw.run('samweb --help-commands')\n",
    "    print(linesep)\n",
    "    dsw.run('samweb list-files -h')\n",
    "    print(linesep)\n",
    "    dsw.run('samweb list-files --help-dimensions')\n",
    "    print(linesep)"
   ]
  },
  {
   "cell_type": "code",
   "execution_count": 7,
   "id": "e5429f30-4274-478e-ac2f-fe47f3d54321",
   "metadata": {},
   "outputs": [
    {
     "name": "stdout",
     "output_type": "stream",
     "text": [
      ">>>>> Raw data files for run 5240\n",
      ">>>>> Query: data_tier raw and DUNE_data.is_fake_data 0 and run_number 5240\n",
      "np04_raw_run005240_0003_dl5.root\n",
      "np04_raw_run005240_0004_dl7.root\n",
      "np04_raw_run005240_0004_dl3.root\n",
      "np04_raw_run005240_0003_dl11.root\n",
      "np04_raw_run005240_0004_dl12.root\n",
      "np04_raw_run005240_0004_dl10.root\n",
      "np04_raw_run005240_0003_dl6.root\n",
      "np04_raw_run005240_0001_dl7.root\n",
      "np04_raw_run005240_0001_dl12.root\n",
      "np04_raw_run005240_0003_dl7.root\n",
      "np04_raw_run005240_0003_dl4.root\n",
      "np04_raw_run005240_0003_dl12.root\n",
      "np04_raw_run005240_0003_dl3.root\n",
      "np04_raw_run005240_0003_dl1.root\n",
      "np04_raw_run005240_0003_dl9.root\n",
      "np04_raw_run005240_0003_dl10.root\n",
      "np04_raw_run005240_0003_dl2.root\n",
      "np04_raw_run005240_0003_dl8.root\n",
      "np04_raw_run005240_0002_dl1.root\n",
      "np04_raw_run005240_0002_dl4.root\n",
      "np04_raw_run005240_0002_dl12.root\n",
      "np04_raw_run005240_0002_dl3.root\n",
      "np04_raw_run005240_0002_dl2.root\n",
      "np04_raw_run005240_0002_dl11.root\n",
      "np04_raw_run005240_0002_dl6.root\n",
      "np04_raw_run005240_0002_dl9.root\n",
      "np04_raw_run005240_0002_dl5.root\n",
      "np04_raw_run005240_0005_dl10.root\n",
      "np04_raw_run005240_0007_dl5.root\n",
      "np04_raw_run005240_0007_dl6.root\n",
      "np04_raw_run005240_0007_dl2.root\n",
      "np04_raw_run005240_0007_dl1.root\n",
      "np04_raw_run005240_0007_dl3.root\n",
      "np04_raw_run005240_0007_dl7.root\n",
      "np04_raw_run005240_0007_dl11.root\n",
      "np04_raw_run005240_0007_dl10.root\n",
      "np04_raw_run005240_0006_dl2.root\n",
      "np04_raw_run005240_0006_dl5.root\n",
      "np04_raw_run005240_0006_dl11.root\n",
      "np04_raw_run005240_0006_dl3.root\n",
      "np04_raw_run005240_0001_dl3.root\n",
      "np04_raw_run005240_0001_dl2.root\n",
      "np04_raw_run005240_0001_dl10.root\n",
      "np04_raw_run005240_0001_dl9.root\n",
      "np04_raw_run005240_0001_dl1.root\n",
      "np04_raw_run005240_0001_dl8.root\n",
      "np04_raw_run005240_0001_dl11.root\n",
      "np04_raw_run005240_0001_dl4.root\n",
      "np04_raw_run005240_0001_dl5.root\n",
      "np04_raw_run005240_0001_dl6.root\n",
      "np04_raw_run005240_0002_dl8.root\n",
      "np04_raw_run005240_0002_dl7.root\n",
      "np04_raw_run005240_0002_dl10.root\n",
      "np04_raw_run005240_0004_dl5.root\n",
      "np04_raw_run005240_0004_dl4.root\n",
      "np04_raw_run005240_0006_dl9.root\n",
      "np04_raw_run005240_0006_dl6.root\n",
      "np04_raw_run005240_0006_dl8.root\n",
      "np04_raw_run005240_0006_dl4.root\n",
      "np04_raw_run005240_0005_dl7.root\n",
      "np04_raw_run005240_0006_dl1.root\n",
      "np04_raw_run005240_0006_dl7.root\n",
      "np04_raw_run005240_0004_dl11.root\n",
      "np04_raw_run005240_0004_dl6.root\n",
      "np04_raw_run005240_0004_dl1.root\n",
      "np04_raw_run005240_0004_dl8.root\n",
      "np04_raw_run005240_0005_dl5.root\n",
      "np04_raw_run005240_0005_dl9.root\n",
      "np04_raw_run005240_0005_dl2.root\n",
      "np04_raw_run005240_0005_dl6.root\n",
      "np04_raw_run005240_0005_dl12.root\n",
      "np04_raw_run005240_0004_dl2.root\n",
      "np04_raw_run005240_0005_dl1.root\n",
      "np04_raw_run005240_0005_dl11.root\n",
      "np04_raw_run005240_0004_dl9.root\n",
      "np04_raw_run005240_0005_dl4.root\n",
      "np04_raw_run005240_0005_dl3.root\n",
      "np04_raw_run005240_0005_dl8.root\n",
      "np04_raw_run005240_0006_dl12.root\n",
      "np04_raw_run005240_0008_dl4.root\n",
      "np04_raw_run005240_0008_dl6.root\n",
      "np04_raw_run005240_0008_dl2.root\n",
      "np04_raw_run005240_0008_dl11.root\n",
      "np04_raw_run005240_0008_dl10.root\n",
      "np04_raw_run005240_0008_dl7.root\n",
      "np04_raw_run005240_0008_dl1.root\n",
      "np04_raw_run005240_0008_dl3.root\n",
      "np04_raw_run005240_0008_dl8.root\n",
      "np04_raw_run005240_0009_dl3.root\n",
      "np04_raw_run005240_0008_dl9.root\n",
      "np04_raw_run005240_0008_dl5.root\n",
      "np04_raw_run005240_0008_dl12.root\n",
      "np04_raw_run005240_0007_dl8.root\n",
      "np04_raw_run005240_0007_dl12.root\n",
      "np04_raw_run005240_0007_dl4.root\n",
      "np04_raw_run005240_0006_dl10.root\n",
      "np04_raw_run005240_0007_dl9.root\n"
     ]
    }
   ],
   "source": [
    "run = 5240\n",
    "query = f\"data_tier raw and DUNE_data.is_fake_data 0 and run_number {run}\"\n",
    "if True:\n",
    "    print(f\">>>>> Raw data files for run {run}\")\n",
    "    print(f\">>>>> Query: {query}\")\n",
    "    dsw.run(f'samweb list-files \"{query}\"')"
   ]
  },
  {
   "cell_type": "code",
   "execution_count": 8,
   "id": "3f2f4713-8a8c-45ae-9e95-9bede5fcff01",
   "metadata": {},
   "outputs": [
    {
     "name": "stdout",
     "output_type": "stream",
     "text": [
      "root://castorpublic.cern.ch//castor/cern.ch/neutplatform/protodune/rawdata/np04/detector/None/raw/06/68/39/48/np04_raw_run005240_0001_dl1.root\n",
      "root://fndca1.fnal.gov:1094/pnfs/fnal.gov/usr/dune/tape_backed/dunepro/protodune/np04/beam/detector/None/raw/06/68/39/48/np04_raw_run005240_0001_dl1.root\n"
     ]
    }
   ],
   "source": [
    "fnam = 'np04_raw_run005240_0001_dl1.root'\n",
    "dsw.run(f\"samweb get-file-access-url {fnam} --schema=root\")"
   ]
  },
  {
   "cell_type": "markdown",
   "id": "e639817f-8d94-4289-af86-c33dcd28e975",
   "metadata": {},
   "source": [
    "## Reading data\n",
    "\n",
    "Finally we read the file to check that we really have access. First open the file in root and then run the art utility that counts the events in the file."
   ]
  },
  {
   "cell_type": "code",
   "execution_count": 9,
   "id": "7880eca8-93f2-4cb5-ba5e-5874ebd842d1",
   "metadata": {},
   "outputs": [
    {
     "name": "stdout",
     "output_type": "stream",
     "text": [
      ">>>>> Opening file with Root.\n",
      "   ------------------------------------------------------------------\n",
      "  | Welcome to ROOT 6.22/08                        https://root.cern |\n",
      "  | (c) 1995-2020, The ROOT Team; conception: R. Brun, F. Rademakers |\n",
      "  | Built for linuxx8664gcc on Mar 10 2021, 14:20:04                 |\n",
      "  | From tags/v6-22-08@v6-22-08                                      |\n",
      "  | Try '.help', '.demo', '.license', '.credits', '.quit'/'.q'       |\n",
      "   ------------------------------------------------------------------\n",
      "\n",
      "\n",
      "Attaching file root://fndca1.fnal.gov/pnfs/fnal.gov/usr/dune/tape_backed/dunepro/protodune/np04/beam/detector/None/raw/06/68/39/48/np04_raw_run005240_0001_dl1.root as _file0...\n",
      "(TFile *) 0x46c8bd0\n"
     ]
    }
   ],
   "source": [
    "furl = 'root://fndca1.fnal.gov:1094/pnfs/fnal.gov/usr/dune/tape_backed/dunepro/protodune/np04/beam/detector/None/raw/06/68/39/48/np04_raw_run005240_0001_dl1.root'\n",
    "print('>>>>> Opening file with Root.')\n",
    "dsw.run(f\"root.exe -q {furl}\")"
   ]
  },
  {
   "cell_type": "code",
   "execution_count": 10,
   "id": "afbb259b-66d2-44f2-82f6-309f4dd15d4e",
   "metadata": {},
   "outputs": [
    {
     "name": "stdout",
     "output_type": "stream",
     "text": [
      ">>>>> Counting events.\n",
      "root://fndca1.fnal.gov:1094/pnfs/fnal.gov/usr/dune/tape_backed/dunepro/protodune/np04/beam/detector/None/raw/06/68/39/48/np04_raw_run005240_0001_dl1.root\t1 run, 1 subrun, 107 events, and 0 results.\n",
      "Counted events successfully for 1 specified files.\n"
     ]
    }
   ],
   "source": [
    "print('>>>>> Counting events.')\n",
    "dsw.run(f\"count_events --hr {furl}\")"
   ]
  },
  {
   "cell_type": "code",
   "execution_count": null,
   "id": "439792ef-3d08-4805-9033-380606240342",
   "metadata": {},
   "outputs": [],
   "source": []
  },
  {
   "cell_type": "code",
   "execution_count": null,
   "id": "46962952-9b6b-4899-bbea-68ef059dd60a",
   "metadata": {},
   "outputs": [],
   "source": []
  }
 ],
 "metadata": {
  "kernelspec": {
   "display_name": "Python 3 (ipykernel)",
   "language": "python",
   "name": "python3"
  },
  "language_info": {
   "codemirror_mode": {
    "name": "ipython",
    "version": 3
   },
   "file_extension": ".py",
   "mimetype": "text/x-python",
   "name": "python",
   "nbconvert_exporter": "python",
   "pygments_lexer": "ipython3",
   "version": "3.8.6"
  }
 },
 "nbformat": 4,
 "nbformat_minor": 5
}
