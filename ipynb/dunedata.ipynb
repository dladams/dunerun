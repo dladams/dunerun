{
 "cells": [
  {
   "cell_type": "markdown",
   "id": "48d1ac21-662f-404c-9cda-308aa204d1ec",
   "metadata": {},
   "source": [
    "# dunedata.ipynb\n",
    "This notebook uses dunerun to search for some DUNE data. \n",
    "\n",
    "## Introduction\n",
    "\n",
    "First connect to a Jupyter machine where DUNE cvmfs is available e.g. <https://analytics-hub.fnal.gov>, open a terminal and and follow the [instructions](https://github.com/dladams/dunerun#readme) to install *dunerun*.\n",
    "Here we assume the package is installed at ~/proc/install/dev01/dunerun but any location is fine.  \n",
    "\n",
    "Copy this noteboook dunerun.ipynb from the installation area to a directory of your choosing and open the copy on Jupyter.\n",
    "Since you are reading this, you may have already done so.  \n",
    "\n",
    "Run the *dunerun* setup (change the location to match your installation) and import dunerun and other packages of interest:"
   ]
  },
  {
   "cell_type": "code",
   "execution_count": 1,
   "id": "337194de-c89d-476a-bc0a-47d8f11f98b9",
   "metadata": {},
   "outputs": [
    {
     "name": "stdout",
     "output_type": "stream",
     "text": [
      "jupyter-dladams: Wed Mar 23 14:15:30 UTC 2022\n",
      "dunerun version is 1.2.0\n",
      "Help on class DuneRun in module dunerun.src.dunerun:\n",
      "\n",
      "class DuneRun(builtins.object)\n",
      " |  DuneRun(senv='', sopt='', shell=False, dbg=0, lev=2, precoms=[])\n",
      " |  \n",
      " |  Methods defined here:\n",
      " |  \n",
      " |  __del__(self)\n",
      " |  \n",
      " |  __init__(self, senv='', sopt='', shell=False, dbg=0, lev=2, precoms=[])\n",
      " |      Ctor for class that runs dune commands.\n",
      " |      senv = '' - Run in bash (no dune set up).\n",
      " |             'dune' - Set up dune env but no products.\n",
      " |             'dunesw' - Set up dunesw.\n",
      " |      sopt = string passed to setup, e.g. 'e20:prof' for dunesw.\n",
      " |      precoms = Commands run before environment setup.\n",
      " |      shell = If true, all calls to run use the same shell.\n",
      " |      lev = Output level for the executed commands:\n",
      " |            0 - All output is discarded\n",
      " |            1 - stderr only\n",
      " |            2 - stdout and stderr [default]\n",
      " |      dbg = Output level (in addition to stdout, stderr) for run commands:\n",
      " |            0 - Command is executed with no extra messages. [default]\n",
      " |            1 - Command is executed with informational messages.\"\n",
      " |            2 - Command and infomational messages are displayed. No command execution.\"\n",
      " |  \n",
      " |  run(self, com, a_lev=None)\n",
      " |  \n",
      " |  ----------------------------------------------------------------------\n",
      " |  Data descriptors defined here:\n",
      " |  \n",
      " |  __dict__\n",
      " |      dictionary for instance variables (if defined)\n",
      " |  \n",
      " |  __weakref__\n",
      " |      list of weak references to the object (if defined)\n",
      "\n"
     ]
    }
   ],
   "source": [
    "!echo $(hostname): $(date)\n",
    "%run ~/proc/install/dev01/dunerun/python/setup.py\n",
    "import sys\n",
    "import os\n",
    "import dunerun\n",
    "print(f\"dunerun version is {dunerun.version()}\")\n",
    "dsw = None\n",
    "\n",
    "help(dunerun.DuneRun)"
   ]
  },
  {
   "cell_type": "markdown",
   "id": "bafdb772-53ab-4a64-9028-1121515a7632",
   "metadata": {
    "tags": []
   },
   "source": [
    "## List releases\n",
    "\n",
    "Uncomment the following if you want to see a list of available versions of dunesw."
   ]
  },
  {
   "cell_type": "code",
   "execution_count": 2,
   "id": "0dd867ed-c073-47de-be51-a2f97318ec29",
   "metadata": {},
   "outputs": [],
   "source": [
    "#dunerun.DuneRun('dune').run('ups list -aK+ dunesw')"
   ]
  },
  {
   "cell_type": "markdown",
   "id": "3b032fab-5723-47de-ad9c-9545efd40a4a",
   "metadata": {},
   "source": [
    "## VOMS proxy\n",
    "\n",
    "Access to DUNE data requires a VOMS proxy which can be otained with kerberos credentials. The following lines run system commands to check if we have such credentials and such a proxy. A benefit of running this notebook is that we are left with a VMS proxy.\n",
    "\n",
    "The following block generates the credentials and proxy if they are needed. If the output level (*lev*) is increased, you may see a 'Setup AC' warning. It is annoying but harmless. It follows from taking kx509 from cvmfs because it is not installed on the FNAL analysis servers."
   ]
  },
  {
   "cell_type": "code",
   "execution_count": 3,
   "id": "d9588f98-0b3f-4d44-a46b-b8c3c9e17c90",
   "metadata": {},
   "outputs": [
    {
     "name": "stdout",
     "output_type": "stream",
     "text": [
      "Proxy time remaining is 41746 sec\n"
     ]
    }
   ],
   "source": [
    "proxy = dunerun.DuneProxy(tmin=60)    # Proxy manager\n",
    "if not proxy.check_proxy():\n",
    "    print('>>>>> VOMS proxy not found.')\n",
    "    assert(False)\n",
    "print(f\"Proxy time remaining is {proxy.time()} sec\")"
   ]
  },
  {
   "cell_type": "markdown",
   "id": "f22c03c0-30ee-4a2a-88b8-98fac82b6c88",
   "metadata": {},
   "source": [
    "## Set up a release\n",
    "\n",
    "Use *DuneRun* to start a process using a DUNE release."
   ]
  },
  {
   "cell_type": "code",
   "execution_count": 4,
   "id": "537b9f4c-ae99-4f3e-98cc-507e6e8e2e16",
   "metadata": {},
   "outputs": [
    {
     "name": "stderr",
     "output_type": "stream",
     "text": [
      "Setting up dunesw v09_46_00_00 e20:prof\n"
     ]
    },
    {
     "name": "stdout",
     "output_type": "stream",
     "text": [
      "Welcome to dunetpc \n",
      "Some available commands:\n",
      "              duneHelp - Display information about the current setup of dunetpc.\n",
      "                   lar - Run the art/larsoft event looop e.g. to process event data.\n",
      "  product_sizes_dumper - Display the products and size in an event data file.\n",
      "               fcldump - Display the resolved configuration for a fcl file.\n",
      "               liblist - List available plugin libraries.\n",
      "        pdChannelRange - Display protoDUNE channel grops and ranges.\n",
      "           duneRunData - Display run data for a run.\n",
      "           duneTestFcl - Test some high-level fcl configurations.\n",
      "Use option \"-h\" with any of these for more information.\n"
     ]
    }
   ],
   "source": [
    "if dsw is None:\n",
    "    dsw = dunerun.DuneRun('dunesw', 'v09_46_00_00:e20:prof', shell=True)\n",
    "    dsw.run('duneHelp')"
   ]
  },
  {
   "cell_type": "markdown",
   "id": "bce5daf8-2a38-4c5b-96f6-da8c35e8b4af",
   "metadata": {},
   "source": [
    "## Finding data\n",
    "\n",
    "The samweb command can be used to find DUNE data. If enabled, the first block shows some help messages.  \n",
    "\n",
    "The next blocks showing how to list all the raw data files for a protDUNE run, find the URL(s) for one of those files and then open the file with Root."
   ]
  },
  {
   "cell_type": "code",
   "execution_count": 5,
   "id": "5a9df8d8-b6a0-436b-b273-77aea56ecb37",
   "metadata": {},
   "outputs": [],
   "source": [
    "linesep = '-------------------------------------------------------------'\n",
    "if False:\n",
    "    dsw.run('samweb --help-commands')\n",
    "    print(linesep)\n",
    "    dsw.run('samweb list-files -h')\n",
    "    print(linesep)\n",
    "    dsw.run('samweb list-files --help-dimensions')\n",
    "    print(linesep)"
   ]
  },
  {
   "cell_type": "code",
   "execution_count": 6,
   "id": "e5429f30-4274-478e-ac2f-fe47f3d54321",
   "metadata": {},
   "outputs": [
    {
     "name": "stdout",
     "output_type": "stream",
     "text": [
      ">>>>> Raw data files for run 5240\n",
      ">>>>> Query: data_tier raw and DUNE_data.is_fake_data 0 and run_number 5240\n",
      "np04_raw_run005240_0003_dl5.root\n",
      "np04_raw_run005240_0004_dl7.root\n",
      "np04_raw_run005240_0004_dl3.root\n",
      "np04_raw_run005240_0003_dl11.root\n",
      "np04_raw_run005240_0004_dl12.root\n",
      "np04_raw_run005240_0004_dl10.root\n",
      "np04_raw_run005240_0003_dl6.root\n",
      "np04_raw_run005240_0001_dl7.root\n",
      "np04_raw_run005240_0001_dl12.root\n",
      "np04_raw_run005240_0003_dl7.root\n",
      "np04_raw_run005240_0003_dl4.root\n",
      "np04_raw_run005240_0003_dl12.root\n",
      "np04_raw_run005240_0003_dl3.root\n",
      "np04_raw_run005240_0003_dl1.root\n",
      "np04_raw_run005240_0003_dl9.root\n",
      "np04_raw_run005240_0003_dl10.root\n",
      "np04_raw_run005240_0003_dl2.root\n",
      "np04_raw_run005240_0003_dl8.root\n",
      "np04_raw_run005240_0002_dl1.root\n",
      "np04_raw_run005240_0002_dl4.root\n",
      "np04_raw_run005240_0002_dl12.root\n",
      "np04_raw_run005240_0002_dl3.root\n",
      "np04_raw_run005240_0002_dl2.root\n",
      "np04_raw_run005240_0002_dl11.root\n",
      "np04_raw_run005240_0002_dl6.root\n",
      "np04_raw_run005240_0002_dl9.root\n",
      "np04_raw_run005240_0002_dl5.root\n",
      "np04_raw_run005240_0005_dl10.root\n",
      "np04_raw_run005240_0007_dl5.root\n",
      "np04_raw_run005240_0007_dl6.root\n",
      "np04_raw_run005240_0007_dl2.root\n",
      "np04_raw_run005240_0007_dl1.root\n",
      "np04_raw_run005240_0007_dl3.root\n",
      "np04_raw_run005240_0007_dl7.root\n",
      "np04_raw_run005240_0007_dl11.root\n",
      "np04_raw_run005240_0007_dl10.root\n",
      "np04_raw_run005240_0006_dl2.root\n",
      "np04_raw_run005240_0006_dl5.root\n",
      "np04_raw_run005240_0006_dl11.root\n",
      "np04_raw_run005240_0006_dl3.root\n",
      "np04_raw_run005240_0001_dl3.root\n",
      "np04_raw_run005240_0001_dl2.root\n",
      "np04_raw_run005240_0001_dl10.root\n",
      "np04_raw_run005240_0001_dl9.root\n",
      "np04_raw_run005240_0001_dl1.root\n",
      "np04_raw_run005240_0001_dl8.root\n",
      "np04_raw_run005240_0001_dl11.root\n",
      "np04_raw_run005240_0001_dl4.root\n",
      "np04_raw_run005240_0001_dl5.root\n",
      "np04_raw_run005240_0001_dl6.root\n",
      "np04_raw_run005240_0002_dl8.root\n",
      "np04_raw_run005240_0002_dl7.root\n",
      "np04_raw_run005240_0002_dl10.root\n",
      "np04_raw_run005240_0004_dl5.root\n",
      "np04_raw_run005240_0004_dl4.root\n",
      "np04_raw_run005240_0006_dl9.root\n",
      "np04_raw_run005240_0006_dl6.root\n",
      "np04_raw_run005240_0006_dl8.root\n",
      "np04_raw_run005240_0006_dl4.root\n",
      "np04_raw_run005240_0005_dl7.root\n",
      "np04_raw_run005240_0006_dl1.root\n",
      "np04_raw_run005240_0006_dl7.root\n",
      "np04_raw_run005240_0004_dl11.root\n",
      "np04_raw_run005240_0004_dl6.root\n",
      "np04_raw_run005240_0004_dl1.root\n",
      "np04_raw_run005240_0004_dl8.root\n",
      "np04_raw_run005240_0005_dl5.root\n",
      "np04_raw_run005240_0005_dl9.root\n",
      "np04_raw_run005240_0005_dl2.root\n",
      "np04_raw_run005240_0005_dl6.root\n",
      "np04_raw_run005240_0005_dl12.root\n",
      "np04_raw_run005240_0004_dl2.root\n",
      "np04_raw_run005240_0005_dl1.root\n",
      "np04_raw_run005240_0005_dl11.root\n",
      "np04_raw_run005240_0004_dl9.root\n",
      "np04_raw_run005240_0005_dl4.root\n",
      "np04_raw_run005240_0005_dl3.root\n",
      "np04_raw_run005240_0005_dl8.root\n",
      "np04_raw_run005240_0006_dl12.root\n",
      "np04_raw_run005240_0008_dl4.root\n",
      "np04_raw_run005240_0008_dl6.root\n",
      "np04_raw_run005240_0008_dl2.root\n",
      "np04_raw_run005240_0008_dl11.root\n",
      "np04_raw_run005240_0008_dl10.root\n",
      "np04_raw_run005240_0008_dl7.root\n",
      "np04_raw_run005240_0008_dl1.root\n",
      "np04_raw_run005240_0008_dl3.root\n",
      "np04_raw_run005240_0008_dl8.root\n",
      "np04_raw_run005240_0009_dl3.root\n",
      "np04_raw_run005240_0008_dl9.root\n",
      "np04_raw_run005240_0008_dl5.root\n",
      "np04_raw_run005240_0008_dl12.root\n",
      "np04_raw_run005240_0007_dl8.root\n",
      "np04_raw_run005240_0007_dl12.root\n",
      "np04_raw_run005240_0007_dl4.root\n",
      "np04_raw_run005240_0006_dl10.root\n",
      "np04_raw_run005240_0007_dl9.root\n"
     ]
    }
   ],
   "source": [
    "run = 5240\n",
    "query = f\"data_tier raw and DUNE_data.is_fake_data 0 and run_number {run}\"\n",
    "if True:\n",
    "    print(f\">>>>> Raw data files for run {run}\")\n",
    "    print(f\">>>>> Query: {query}\")\n",
    "    dsw.run(f'samweb list-files \"{query}\"')"
   ]
  },
  {
   "cell_type": "code",
   "execution_count": 7,
   "id": "3f2f4713-8a8c-45ae-9e95-9bede5fcff01",
   "metadata": {},
   "outputs": [
    {
     "name": "stdout",
     "output_type": "stream",
     "text": [
      "root://castorpublic.cern.ch//castor/cern.ch/neutplatform/protodune/rawdata/np04/detector/None/raw/06/68/39/48/np04_raw_run005240_0001_dl1.root\n",
      "root://fndca1.fnal.gov:1094/pnfs/fnal.gov/usr/dune/tape_backed/dunepro/protodune/np04/beam/detector/None/raw/06/68/39/48/np04_raw_run005240_0001_dl1.root\n"
     ]
    }
   ],
   "source": [
    "fnam = 'np04_raw_run005240_0001_dl1.root'\n",
    "dsw.run(f\"samweb get-file-access-url {fnam} --schema=root\")"
   ]
  },
  {
   "cell_type": "markdown",
   "id": "e639817f-8d94-4289-af86-c33dcd28e975",
   "metadata": {},
   "source": [
    "## Reading data\n",
    "\n",
    "Finally we read the file to check that we really have access. First open the file in root:"
   ]
  },
  {
   "cell_type": "code",
   "execution_count": 8,
   "id": "7880eca8-93f2-4cb5-ba5e-5874ebd842d1",
   "metadata": {},
   "outputs": [
    {
     "name": "stdout",
     "output_type": "stream",
     "text": [
      ">>>>> Opening file with Root.\n",
      "   ------------------------------------------------------------------\n",
      "  | Welcome to ROOT 6.22/08                        https://root.cern |\n",
      "  | (c) 1995-2020, The ROOT Team; conception: R. Brun, F. Rademakers |\n",
      "  | Built for linuxx8664gcc on Mar 10 2021, 14:20:04                 |\n",
      "  | From tags/v6-22-08@v6-22-08                                      |\n",
      "  | Try '.help', '.demo', '.license', '.credits', '.quit'/'.q'       |\n",
      "   ------------------------------------------------------------------\n",
      "\n",
      "\n",
      "Attaching file root://fndca1.fnal.gov/pnfs/fnal.gov/usr/dune/tape_backed/dunepro/protodune/np04/beam/detector/None/raw/06/68/39/48/np04_raw_run005240_0001_dl1.root as _file0...\n",
      "(TFile *) 0x49208a0\n"
     ]
    }
   ],
   "source": [
    "furl = 'root://fndca1.fnal.gov:1094/pnfs/fnal.gov/usr/dune/tape_backed/dunepro/protodune/np04/beam/detector/None/raw/06/68/39/48/np04_raw_run005240_0001_dl1.root'\n",
    "print('>>>>> Opening file with Root.')\n",
    "dsw.run(f\"root.exe -q {furl}\")"
   ]
  },
  {
   "cell_type": "markdown",
   "id": "a1647ba4-cd10-4654-ad26-a993250c0c4a",
   "metadata": {},
   "source": [
    "Then run the art utility that counts the events in the file:"
   ]
  },
  {
   "cell_type": "code",
   "execution_count": 9,
   "id": "afbb259b-66d2-44f2-82f6-309f4dd15d4e",
   "metadata": {},
   "outputs": [
    {
     "name": "stdout",
     "output_type": "stream",
     "text": [
      ">>>>> Counting events.\n",
      "root://fndca1.fnal.gov:1094/pnfs/fnal.gov/usr/dune/tape_backed/dunepro/protodune/np04/beam/detector/None/raw/06/68/39/48/np04_raw_run005240_0001_dl1.root\t1 run, 1 subrun, 107 events, and 0 results.\n",
      "Counted events successfully for 1 specified files.\n"
     ]
    }
   ],
   "source": [
    "print('>>>>> Counting events.')\n",
    "dsw.run(f\"count_events --hr {furl}\")"
   ]
  },
  {
   "cell_type": "markdown",
   "id": "cf8d6407-e769-4f01-9b92-56acee8c3035",
   "metadata": {},
   "source": [
    "And look at the sizes of the file's data products:"
   ]
  },
  {
   "cell_type": "code",
   "execution_count": 10,
   "id": "46962952-9b6b-4899-bbea-68ef059dd60a",
   "metadata": {},
   "outputs": [
    {
     "name": "stdout",
     "output_type": "stream",
     "text": [
      ">>>>> Dump data sizes.\n",
      "\n",
      "Size on disk for the file: root://fndca1.fnal.gov:1094/pnfs/fnal.gov/usr/dune/tape_backed/dunepro/protodune/np04/beam/detector/None/raw/06/68/39/48/np04_raw_run005240_0001_dl1.root\n",
      "Total size on disk: 8243603809\n",
      "\n",
      "     Size in bytes   Fraction TTree/TKey Name\n",
      "        8216169210      0.997 Events\n",
      "          26992712      0.003 RootFileDB\n",
      "            185952      0.000 EventMetaData\n",
      "             12825      0.000 MetaData\n",
      "              9163      0.000 EventHistory\n",
      "              7977      0.000 Runs\n",
      "              5586      0.000 FileIndex\n",
      "              1687      0.000 Parentage\n",
      "              1142      0.000 RunMetaData\n",
      "              1124      0.000 ResultsMetaData\n",
      "              1124      0.000 SubRuns\n",
      "              1116      0.000 SubRunMetaData\n",
      "              1102      0.000 ResultsTree\n",
      "------------------------------\n",
      "        8243390720      1.000 Total\n",
      "\n",
      "Details for each TTree that occupies more than the fraction 0 of the size on disk.\n",
      "\n",
      "\n",
      "Details for branch: Events\n",
      "\n",
      "     Size in bytes   Fraction Data Product Name\n",
      "        4720534048      0.575 artdaq::Fragments_daq_ContainerTPC_DAQ.\n",
      "        2990932798      0.364 artdaq::Fragments_daq_ContainerFELIX_DAQ.\n",
      "         503910830      0.061 artdaq::Fragments_daq_ContainerPHOTON_DAQ.\n",
      "            510785      0.000 artdaq::Fragments_daq_ContainerCTB_DAQ.\n",
      "             18121      0.000 artdaq::Fragments_daq_TIMING_DAQ.\n",
      "             10037      0.000 art::TriggerResults_TriggerResults__DAQ.\n",
      "              9668      0.000 artdaq::Fragments_daq_ContainerEmpty_DAQ.\n",
      "              9006      0.000 artdaq::Fragments_daq_ContainerContainer_DAQ.\n",
      "              8938      0.000 artdaq::Fragments_daq_ContainerUNKNOWN_DAQ.\n",
      "              8938      0.000 artdaq::Fragments_daq_ContainerTRIGGER_DAQ.\n",
      "              8938      0.000 artdaq::Fragments_daq_ContainerInvalid_DAQ.\n",
      "              8904      0.000 artdaq::Fragments_daq_ContainerMISSED_DAQ.\n",
      "              8904      0.000 artdaq::Fragments_daq_ContainerTIMING_DAQ.\n",
      "              8870      0.000 artdaq::Fragments_daq_ContainerError_DAQ.\n",
      "              8836      0.000 artdaq::Fragments_daq_ContainerTOY2_DAQ.\n",
      "              8836      0.000 artdaq::Fragments_daq_ContainerTOY1_DAQ.\n",
      "              8836      0.000 artdaq::Fragments_daq_ContainerData_DAQ.\n",
      "              8802      0.000 artdaq::Fragments_daq_unidentified_DAQ.\n",
      "              8802      0.000 artdaq::Fragments_daq_ContainerCRT_DAQ.\n",
      "              8700      0.000 artdaq::Fragments_daq_Container_DAQ.\n",
      "              8632      0.000 artdaq::Fragments_daq_Invalid_DAQ.\n",
      "              8632      0.000 artdaq::Fragments_daq_UNKNOWN_DAQ.\n",
      "              8632      0.000 artdaq::Fragments_daq_TRIGGER_DAQ.\n",
      "              8598      0.000 artdaq::Fragments_daq_MISSED_DAQ.\n",
      "              8598      0.000 artdaq::Fragments_daq_PHOTON_DAQ.\n",
      "              8564      0.000 artdaq::Fragments_daq_Error_DAQ.\n",
      "              8564      0.000 artdaq::Fragments_daq_FELIX_DAQ.\n",
      "              8564      0.000 artdaq::Fragments_daq_Empty_DAQ.\n",
      "              8530      0.000 artdaq::Fragments_daq_TOY1_DAQ.\n",
      "              8530      0.000 artdaq::Fragments_daq_TOY2_DAQ.\n",
      "              8530      0.000 artdaq::Fragments_daq_Data_DAQ.\n",
      "              8496      0.000 artdaq::Fragments_daq_CRT_DAQ.\n",
      "              8496      0.000 artdaq::Fragments_daq_TPC_DAQ.\n",
      "              8496      0.000 artdaq::Fragments_daq_CTB_DAQ.\n",
      "              6410      0.000 EventAuxiliary\n",
      "------------------------------\n",
      "        8216167869      1.000 Total\n",
      "\n",
      "\n",
      "Details for branch: EventMetaData\n",
      "\n",
      "     Size in bytes   Fraction Data Product Name\n",
      "            185603      0.998 EventBranchEntryInfo\n",
      "------------------------------\n",
      "            185603      0.998 Total\n",
      "\n",
      "\n",
      "Details for branch: MetaData\n",
      "\n",
      "     Size in bytes   Fraction Data Product Name\n",
      "             10126      0.790 ProductRegistry\n",
      "               903      0.070 ProcessHistoryMap\n",
      "               892      0.070 ProductDependencies\n",
      "               783      0.061 FileFormatVersion\n",
      "------------------------------\n",
      "             12704      0.991 Total\n",
      "\n",
      "\n",
      "Details for branch: EventHistory\n",
      "\n",
      "     Size in bytes   Fraction Data Product Name\n",
      "              8860      0.967 EventHistory\n",
      "------------------------------\n",
      "              8860      0.967 Total\n",
      "\n",
      "\n",
      "Details for branch: Runs\n",
      "\n",
      "     Size in bytes   Fraction Data Product Name\n",
      "              6887      0.863 artdaq::PackageBuildInfos_BuildInfo_DuneArtdaq_DAQ.\n",
      "               812      0.102 RunAuxiliary\n",
      "------------------------------\n",
      "              7699      0.965 Total\n",
      "\n",
      "\n",
      "Details for branch: FileIndex\n",
      "\n",
      "     Size in bytes   Fraction Data Product Name\n",
      "              5289      0.947 Element\n",
      "------------------------------\n",
      "              5289      0.947 Total\n",
      "\n",
      "\n",
      "Details for branch: Parentage\n",
      "\n",
      "     Size in bytes   Fraction Data Product Name\n",
      "               736      0.436 Description\n",
      "               712      0.422 Hash\n",
      "------------------------------\n",
      "              1448      0.858 Total\n",
      "\n",
      "\n",
      "Details for branch: RunMetaData\n",
      "\n",
      "     Size in bytes   Fraction Data Product Name\n",
      "               841      0.736 RunBranchEntryInfo\n",
      "------------------------------\n",
      "               841      0.736 Total\n",
      "\n",
      "\n",
      "Details for branch: ResultsMetaData\n",
      "\n",
      "     Size in bytes   Fraction Data Product Name\n",
      "               815      0.725 ResultsBranchEntryInfo\n",
      "------------------------------\n",
      "               815      0.725 Total\n",
      "\n",
      "\n",
      "Details for branch: SubRuns\n",
      "\n",
      "     Size in bytes   Fraction Data Product Name\n",
      "               831      0.739 SubRunAuxiliary\n",
      "------------------------------\n",
      "               831      0.739 Total\n",
      "\n",
      "\n",
      "Details for branch: SubRunMetaData\n",
      "\n",
      "     Size in bytes   Fraction Data Product Name\n",
      "               809      0.725 SubRunBranchEntryInfo\n",
      "------------------------------\n",
      "               809      0.725 Total\n",
      "\n",
      "\n",
      "Details for branch: ResultsTree\n",
      "\n",
      "     Size in bytes   Fraction Data Product Name\n",
      "               801      0.727 ResultsAuxiliary\n",
      "------------------------------\n",
      "               801      0.727 Total\n",
      "\n"
     ]
    }
   ],
   "source": [
    "print('>>>>> Dump data sizes.')\n",
    "dsw.run(f\"product_sizes_dumper -f 0 {furl}\")"
   ]
  },
  {
   "cell_type": "code",
   "execution_count": 11,
   "id": "0a85e851-2227-4a0f-a523-37bf8e4b35ac",
   "metadata": {},
   "outputs": [
    {
     "name": "stdout",
     "output_type": "stream",
     "text": [
      "jupyter-dladams: Wed Mar 23 14:15:44 UTC 2022\n"
     ]
    }
   ],
   "source": [
    "!echo $(hostname): $(date)"
   ]
  }
 ],
 "metadata": {
  "kernelspec": {
   "display_name": "Python 3 (ipykernel)",
   "language": "python",
   "name": "python3"
  },
  "language_info": {
   "codemirror_mode": {
    "name": "ipython",
    "version": 3
   },
   "file_extension": ".py",
   "mimetype": "text/x-python",
   "name": "python",
   "nbconvert_exporter": "python",
   "pygments_lexer": "ipython3",
   "version": "3.8.6"
  }
 },
 "nbformat": 4,
 "nbformat_minor": 5
}
