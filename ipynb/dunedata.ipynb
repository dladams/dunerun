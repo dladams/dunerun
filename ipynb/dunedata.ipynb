{
 "cells": [
  {
   "cell_type": "markdown",
   "id": "48d1ac21-662f-404c-9cda-308aa204d1ec",
   "metadata": {},
   "source": [
    "# dunedata.ipynb\n",
    "This notebook uses dunerun to search for some DUNE data. \n",
    "\n",
    "## Introduction\n",
    "\n",
    "First connect to a Jupyter machine where DUNE cvmfs is available e.g. <https://analytics-hub.fnal.gov>, open a terminal and and follow the [instructions](https://github.com/dladams/dunerun#readme) to install *dunerun*.\n",
    "Here we assume the package is installed at ~/proc/install/common/dunerun but any location is fine.  \n",
    "\n",
    "Copy this noteboook dunerun.ipynb from the installation area to a directory of your choosing and open the copy on Jupyter.\n",
    "Since you are reading this, you may have already done so.  \n",
    "\n",
    "Run the *dunerun* setup (change the location to match your installation) and import dunerun and other packages of interest:"
   ]
  },
  {
   "cell_type": "code",
   "execution_count": 1,
   "id": "337194de-c89d-476a-bc0a-47d8f11f98b9",
   "metadata": {},
   "outputs": [
    {
     "name": "stdout",
     "output_type": "stream",
     "text": [
      "dunerun version is 1.1.1\n",
      "Proxy time remaining is 38521 sec\n"
     ]
    }
   ],
   "source": [
    "%run ~/proc/install/common/dunerun/python/setup.py\n",
    "import sys\n",
    "import os\n",
    "import dunerun\n",
    "print(f\"dunerun version is {dunerun.version()}\")\n",
    "dsw = None\n",
    "check_proxy = True                  # Set this False to skip the proxy check and generation\n",
    "proxy = dunerun.DuneProxy(nopassword_kinit=False, tmin=60)    # Proxy manager\n",
    "print(f\"Proxy time remaining is {proxy.time()} sec\")"
   ]
  },
  {
   "cell_type": "markdown",
   "id": "bafdb772-53ab-4a64-9028-1121515a7632",
   "metadata": {
    "tags": []
   },
   "source": [
    "## List releases\n",
    "\n",
    "Uncomment the following if you want to see a list of available versions of dunesw."
   ]
  },
  {
   "cell_type": "code",
   "execution_count": 2,
   "id": "0dd867ed-c073-47de-be51-a2f97318ec29",
   "metadata": {},
   "outputs": [],
   "source": [
    "#dunerun.DuneRun('dune').run('ups list -aK+ dunesw')"
   ]
  },
  {
   "cell_type": "markdown",
   "id": "3b032fab-5723-47de-ad9c-9545efd40a4a",
   "metadata": {},
   "source": [
    "## VOMS proxy\n",
    "\n",
    "Access to DUNE data requires a VOMS proxy which can be otained with kerberos credentials. The following lines run system commands to check if we have such credentials and such a proxy. A benefit of running this notebook is that we are left with a VMS proxy.\n",
    "\n",
    "The following block generates the credentials and proxy if they are needed. If the output level (*lev*) is increased, you may see a 'Setup AC' warning. It is annoying but harmless. It follows from taking kx509 from cvmfs because it is not installed on the FNAL analysis servers."
   ]
  },
  {
   "cell_type": "code",
   "execution_count": 3,
   "id": "d9588f98-0b3f-4d44-a46b-b8c3c9e17c90",
   "metadata": {},
   "outputs": [
    {
     "name": "stdout",
     "output_type": "stream",
     "text": [
      ">>>>> Proxy is valid.\n"
     ]
    }
   ],
   "source": [
    "linesep = '-------------------------------------------------------------'\n",
    "\n",
    "if check_proxy:\n",
    "    if not proxy.is_valid():\n",
    "        print('>>>>> VOMS proxy not found.')\n",
    "        if not proxy.have_kerberos_credentials():\n",
    "            print('>>>>> Kerberos credentials needed and not found.')\n",
    "            if not proxy.nopassword_kinit:\n",
    "                raise Exception('>>>>> Run kinit in a terminal and restart notebook.')\n",
    "            print('>>>>> Credentials will be obtained.')\n",
    "    else:\n",
    "        print('>>>>> Proxy is valid.')\n",
    "else:\n",
    "    print('>>>>> Proxy is not checked.')"
   ]
  },
  {
   "cell_type": "code",
   "execution_count": 4,
   "id": "a3526f86-2111-4c62-9470-9d7207ef7777",
   "metadata": {},
   "outputs": [],
   "source": [
    "if check_proxy and not proxy.is_valid():\n",
    "    print('>>>>> Obtaining proxy.')\n",
    "    proxy.get_proxy(lev=0)\n",
    "    if not proxy.is_valid():\n",
    "        raise Exception(\">>>>> ERROR: Proxy is not valid.\")\n",
    "    print('>>>>> Proxy has been obtained')"
   ]
  },
  {
   "cell_type": "markdown",
   "id": "f22c03c0-30ee-4a2a-88b8-98fac82b6c88",
   "metadata": {},
   "source": [
    "## Set up a release\n",
    "\n",
    "Use *DuneRun* to start a process using a DUNE release."
   ]
  },
  {
   "cell_type": "code",
   "execution_count": 5,
   "id": "537b9f4c-ae99-4f3e-98cc-507e6e8e2e16",
   "metadata": {},
   "outputs": [
    {
     "ename": "TypeError",
     "evalue": "__init__() missing 2 required positional arguments: 'args' and 'returncode'",
     "output_type": "error",
     "traceback": [
      "\u001b[0;31m---------------------------------------------------------------------------\u001b[0m",
      "\u001b[0;31mTypeError\u001b[0m                                 Traceback (most recent call last)",
      "Input \u001b[0;32mIn [5]\u001b[0m, in \u001b[0;36m<module>\u001b[0;34m\u001b[0m\n\u001b[1;32m      1\u001b[0m \u001b[38;5;28;01mif\u001b[39;00m dsw \u001b[38;5;129;01mis\u001b[39;00m \u001b[38;5;28;01mNone\u001b[39;00m:\n\u001b[1;32m      2\u001b[0m     dsw \u001b[38;5;241m=\u001b[39m dunerun\u001b[38;5;241m.\u001b[39mDuneRun(\u001b[38;5;124m'\u001b[39m\u001b[38;5;124mdunesw\u001b[39m\u001b[38;5;124m'\u001b[39m, \u001b[38;5;124m'\u001b[39m\u001b[38;5;124mv09_45_00_00:e20:prof\u001b[39m\u001b[38;5;124m'\u001b[39m, shell\u001b[38;5;241m=\u001b[39m\u001b[38;5;28;01mTrue\u001b[39;00m)\n\u001b[0;32m----> 3\u001b[0m     \u001b[43mdsw\u001b[49m\u001b[38;5;241;43m.\u001b[39;49m\u001b[43mrun\u001b[49m\u001b[43m(\u001b[49m\u001b[38;5;124;43m'\u001b[39;49m\u001b[38;5;124;43mduneHelp\u001b[39;49m\u001b[38;5;124;43m'\u001b[39;49m\u001b[43m)\u001b[49m\n",
      "File \u001b[0;32m~/proc/install/common/dunerun/python/dunerun/src/dunerun.py:71\u001b[0m, in \u001b[0;36mDuneRun.run\u001b[0;34m(self, com, a_lev)\u001b[0m\n\u001b[1;32m     69\u001b[0m myname \u001b[38;5;241m=\u001b[39m\u001b[38;5;124m'\u001b[39m\u001b[38;5;124mDuneRun::run\u001b[39m\u001b[38;5;124m'\u001b[39m\n\u001b[1;32m     70\u001b[0m lev \u001b[38;5;241m=\u001b[39m \u001b[38;5;28mself\u001b[39m\u001b[38;5;241m.\u001b[39mlev \u001b[38;5;28;01mif\u001b[39;00m a_lev \u001b[38;5;129;01mis\u001b[39;00m \u001b[38;5;28;01mNone\u001b[39;00m \u001b[38;5;28;01melse\u001b[39;00m a_lev\n\u001b[0;32m---> 71\u001b[0m ret \u001b[38;5;241m=\u001b[39m \u001b[43msubprocess\u001b[49m\u001b[38;5;241;43m.\u001b[39;49m\u001b[43mCompletedProcess\u001b[49m\u001b[43m(\u001b[49m\u001b[43m)\u001b[49m\n\u001b[1;32m     72\u001b[0m ret\u001b[38;5;241m.\u001b[39mreturncode \u001b[38;5;241m=\u001b[39m \u001b[38;5;241m999\u001b[39m\n\u001b[1;32m     73\u001b[0m \u001b[38;5;28;01mif\u001b[39;00m \u001b[38;5;28mself\u001b[39m\u001b[38;5;241m.\u001b[39m_shell:\n",
      "\u001b[0;31mTypeError\u001b[0m: __init__() missing 2 required positional arguments: 'args' and 'returncode'"
     ]
    }
   ],
   "source": [
    "if dsw is None:\n",
    "    dsw = dunerun.DuneRun('dunesw', 'v09_45_00_00:e20:prof', shell=True)\n",
    "    dsw.run('duneHelp')"
   ]
  },
  {
   "cell_type": "markdown",
   "id": "bce5daf8-2a38-4c5b-96f6-da8c35e8b4af",
   "metadata": {},
   "source": [
    "## Finding data\n",
    "\n",
    "The samweb command can be used to find DUNE data. If enabled, the first block shows some help messages.  \n",
    "\n",
    "The next blocks showing how to list all the raw data files for a protDUNE run, find the URL(s) for one of those files and then open the file with Root."
   ]
  },
  {
   "cell_type": "code",
   "execution_count": null,
   "id": "5a9df8d8-b6a0-436b-b273-77aea56ecb37",
   "metadata": {},
   "outputs": [],
   "source": [
    "if False:\n",
    "    dsw.run('samweb --help-commands')\n",
    "    print(linesep)\n",
    "    dsw.run('samweb list-files -h')\n",
    "    print(linesep)\n",
    "    dsw.run('samweb list-files --help-dimensions')\n",
    "    print(linesep)"
   ]
  },
  {
   "cell_type": "code",
   "execution_count": null,
   "id": "e5429f30-4274-478e-ac2f-fe47f3d54321",
   "metadata": {},
   "outputs": [],
   "source": [
    "run = 5240\n",
    "query = f\"data_tier raw and DUNE_data.is_fake_data 0 and run_number {run}\"\n",
    "if True:\n",
    "    print(f\">>>>> Raw data files for run {run}\")\n",
    "    print(f\">>>>> Query: {query}\")\n",
    "    dsw.run(f'samweb list-files \"{query}\"')"
   ]
  },
  {
   "cell_type": "code",
   "execution_count": null,
   "id": "3f2f4713-8a8c-45ae-9e95-9bede5fcff01",
   "metadata": {},
   "outputs": [],
   "source": [
    "fnam = 'np04_raw_run005240_0001_dl1.root'\n",
    "dsw.run(f\"samweb get-file-access-url {fnam} --schema=root\")"
   ]
  },
  {
   "cell_type": "markdown",
   "id": "e639817f-8d94-4289-af86-c33dcd28e975",
   "metadata": {},
   "source": [
    "## Reading data\n",
    "\n",
    "Finally we read the file to check that we really have access. First open the file in root:"
   ]
  },
  {
   "cell_type": "code",
   "execution_count": null,
   "id": "7880eca8-93f2-4cb5-ba5e-5874ebd842d1",
   "metadata": {},
   "outputs": [],
   "source": [
    "furl = 'root://fndca1.fnal.gov:1094/pnfs/fnal.gov/usr/dune/tape_backed/dunepro/protodune/np04/beam/detector/None/raw/06/68/39/48/np04_raw_run005240_0001_dl1.root'\n",
    "print('>>>>> Opening file with Root.')\n",
    "dsw.run(f\"root.exe -q {furl}\")"
   ]
  },
  {
   "cell_type": "markdown",
   "id": "a1647ba4-cd10-4654-ad26-a993250c0c4a",
   "metadata": {},
   "source": [
    "Then run the art utility that counts the events in the file:"
   ]
  },
  {
   "cell_type": "code",
   "execution_count": null,
   "id": "afbb259b-66d2-44f2-82f6-309f4dd15d4e",
   "metadata": {},
   "outputs": [],
   "source": [
    "print('>>>>> Counting events.')\n",
    "dsw.run(f\"count_events --hr {furl}\")"
   ]
  },
  {
   "cell_type": "markdown",
   "id": "cf8d6407-e769-4f01-9b92-56acee8c3035",
   "metadata": {},
   "source": [
    "And look at the sizes of the file's data products:"
   ]
  },
  {
   "cell_type": "code",
   "execution_count": null,
   "id": "46962952-9b6b-4899-bbea-68ef059dd60a",
   "metadata": {},
   "outputs": [],
   "source": [
    "print('>>>>> Dump data sizes.')\n",
    "dsw.run(f\"product_sizes_dumper -f 0 {furl}\")"
   ]
  }
 ],
 "metadata": {
  "kernelspec": {
   "display_name": "Python 3 (ipykernel)",
   "language": "python",
   "name": "python3"
  },
  "language_info": {
   "codemirror_mode": {
    "name": "ipython",
    "version": 3
   },
   "file_extension": ".py",
   "mimetype": "text/x-python",
   "name": "python",
   "nbconvert_exporter": "python",
   "pygments_lexer": "ipython3",
   "version": "3.8.6"
  }
 },
 "nbformat": 4,
 "nbformat_minor": 5
}
