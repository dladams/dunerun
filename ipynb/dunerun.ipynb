{
 "cells": [
  {
   "cell_type": "markdown",
   "id": "48d1ac21-662f-404c-9cda-308aa204d1ec",
   "metadata": {},
   "source": [
    "# dunerun.ipynb\n",
    "This notebook shows how to use [dunesw-support](https://github.com/dladams/dunesw-support) to use *dunesw* and other DUNE SW from a notebook.  \n",
    "\n",
    "## Introduction\n",
    "\n",
    "First connect to a Jupyter machine where DUNE cvmfs is available e.g. <https://analytics-hub.fnal.gov>, open a terminal and and follow the [instructions](https://github.com/dladams/dunesw-support#readme) to install *dunesw-support*.\n",
    "Here we assume the package is installed at ~/proc/install/common/dunesw-support but any location is fine.  \n",
    "\n",
    "Copy this noteboook dunerun.ipynb from the installation area to a directory of your choosing and open the copy on Jupyter.\n",
    "Since you are reading this, you have likely already done so.  \n",
    "\n",
    "Run the *dunesw-support* setup (change the location to match your installation) and import dunerun and other packages of interest:"
   ]
  },
  {
   "cell_type": "code",
   "execution_count": 1,
   "id": "337194de-c89d-476a-bc0a-47d8f11f98b9",
   "metadata": {},
   "outputs": [
    {
     "name": "stdout",
     "output_type": "stream",
     "text": [
      "dunerun version is 0.2.0.dev1\n"
     ]
    }
   ],
   "source": [
    "%run ~/proc/install/common/dunesw-support/python/setup.py\n",
    "import sys\n",
    "import dunerun\n",
    "print(f\"dunerun version is {dunerun.version()}\")"
   ]
  },
  {
   "cell_type": "markdown",
   "id": "bc47feeb-8a9b-44fc-b72e-b6fd65446242",
   "metadata": {},
   "source": [
    "## Login environment\n",
    "\n",
    "The *dunerun* module provides a class *DuneRun* that can be used to run command is various DUNE environnments.  \n",
    "\n",
    "Construct with no arguments to run without setting up any DUNE software. Note we caould also do this with \"os.system(...)\" or by prefixing commands with '!' in interactive python."
   ]
  },
  {
   "cell_type": "code",
   "execution_count": 2,
   "id": "5fb920b5-4020-42cb-9d9b-57f3032ffadf",
   "metadata": {},
   "outputs": [
    {
     "name": "stdout",
     "output_type": "stream",
     "text": [
      "My pid is 231266\n",
      "-------------------------------------\n",
      "DuneRun::run: Executing command date\n",
      "Mon Mar  7 15:50:52 UTC 2022\n",
      "-------------------------------------\n",
      "DuneRun::run: Executing command echo SHELL = $SHELL\n",
      "SHELL = /bin/bash\n",
      "-------------------------------------\n",
      "DuneRun::run: Executing command echo PATH = $PATH\n",
      "PATH = /opt/conda/bin:/opt/conda/condabin:/opt/conda/bin:/usr/local/sbin:/usr/local/bin:/usr/sbin:/usr/bin:/sbin:/bin\n",
      "-------------------------------------\n",
      "DuneRun::run: Executing command ls -ls ~/proc\n",
      "total 0\n",
      "0 drwxr-xr-x. 5 dladams fnalgrid 3 Jan 20 14:43 build\n",
      "0 drwxr-xr-x. 3 dladams fnalgrid 1 Jan 18 14:47 dev\n",
      "0 drwxr-xr-x. 3 dladams fnalgrid 2 Feb 28 14:52 example\n",
      "0 drwxr-xr-x. 7 dladams fnalgrid 8 Mar  2 16:11 install\n",
      "0 drwxr-xr-x. 4 dladams fnalgrid 2 Feb 15 15:55 pkgs\n",
      "0 drwxr-xr-x. 3 dladams fnalgrid 2 Feb  8 15:01 run01\n",
      "0 drwxr-xr-x. 3 dladams fnalgrid 1 Feb  7 15:34 tmp\n",
      "0 drwxr-xr-x. 3 dladams fnalgrid 1 Mar  1 14:09 tutorials\n",
      "-------------------------------------\n"
     ]
    },
    {
     "ename": "NameError",
     "evalue": "name 'stophere' is not defined",
     "output_type": "error",
     "traceback": [
      "\u001b[0;31m---------------------------------------------------------------------------\u001b[0m",
      "\u001b[0;31mNameError\u001b[0m                                 Traceback (most recent call last)",
      "Input \u001b[0;32mIn [2]\u001b[0m, in \u001b[0;36m<module>\u001b[0;34m\u001b[0m\n\u001b[1;32m     11\u001b[0m shell\u001b[38;5;241m.\u001b[39mrun(\u001b[38;5;124m'\u001b[39m\u001b[38;5;124mls -ls ~/proc\u001b[39m\u001b[38;5;124m'\u001b[39m)\n\u001b[1;32m     12\u001b[0m \u001b[38;5;28mprint\u001b[39m(line)\n\u001b[0;32m---> 13\u001b[0m \u001b[43mstophere\u001b[49m()\n",
      "\u001b[0;31mNameError\u001b[0m: name 'stophere' is not defined"
     ]
    }
   ],
   "source": [
    "line = \"-------------------------------------\"\n",
    "print(f\"My pid is {os.getpid()}\")\n",
    "shell = dunerun.DuneRun(shell=True, dbg=1)\n",
    "print(line)\n",
    "shell.run('date')\n",
    "print(line)\n",
    "shell.run('echo SHELL = $SHELL')\n",
    "print(line)\n",
    "shell.run('echo PATH = $PATH')\n",
    "print(line)\n",
    "shell.run('ls -ls ~/proc')\n",
    "print(line)\n",
    "stophere()"
   ]
  },
  {
   "cell_type": "markdown",
   "id": "eec172ea-b139-4878-a09f-07d33313be46",
   "metadata": {},
   "source": [
    "## DUNE setup environment\n",
    "\n",
    "Use the argument \"dune\" to set up ups with out setting up and packages. This is useful to see what versions of a package are available."
   ]
  },
  {
   "cell_type": "code",
   "execution_count": null,
   "id": "7685aa77-f478-4583-9c24-fb7462f1463c",
   "metadata": {},
   "outputs": [],
   "source": [
    "dune = dunerun.DuneRun('dune')\n",
    "dune.run('ups list -aK+ dunesw')"
   ]
  },
  {
   "cell_type": "markdown",
   "id": "bafdb772-53ab-4a64-9028-1121515a7632",
   "metadata": {},
   "source": [
    "## Using DUNE software\n",
    "\n",
    "Use a DUNE package name followed by colon-separated version and qualifiers to set up that package.\n",
    "At present, only *dunesw* is supported but ohter or all could be added.\n",
    "Here we ask for help and then run the fcl tests for *dunesw*."
   ]
  },
  {
   "cell_type": "code",
   "execution_count": null,
   "id": "537b9f4c-ae99-4f3e-98cc-507e6e8e2e16",
   "metadata": {},
   "outputs": [],
   "source": [
    "dsw = dunerun.DuneRun('dunesw', 'v09_43_00_00:e20:prof')\n",
    "print(line)\n",
    "dsw.run('duneHelp')\n",
    "print(line)\n",
    "dsw.run('duneTestFcl')\n",
    "print(line)"
   ]
  },
  {
   "cell_type": "code",
   "execution_count": null,
   "id": "68e9d25f-0b7c-408f-a350-7061efd2c3ed",
   "metadata": {},
   "outputs": [],
   "source": []
  },
  {
   "cell_type": "code",
   "execution_count": null,
   "id": "da077cef-1fff-41b4-87be-a47f2f13c9a1",
   "metadata": {},
   "outputs": [],
   "source": []
  },
  {
   "cell_type": "code",
   "execution_count": null,
   "id": "6f0a534c-e9fa-4da0-9ab0-41a24d9b232b",
   "metadata": {},
   "outputs": [],
   "source": []
  },
  {
   "cell_type": "code",
   "execution_count": null,
   "id": "88a1e725-fd26-4a3b-854e-52b80f88a877",
   "metadata": {},
   "outputs": [],
   "source": []
  }
 ],
 "metadata": {
  "kernelspec": {
   "display_name": "Python 3 (ipykernel)",
   "language": "python",
   "name": "python3"
  },
  "language_info": {
   "codemirror_mode": {
    "name": "ipython",
    "version": 3
   },
   "file_extension": ".py",
   "mimetype": "text/x-python",
   "name": "python",
   "nbconvert_exporter": "python",
   "pygments_lexer": "ipython3",
   "version": "3.8.6"
  }
 },
 "nbformat": 4,
 "nbformat_minor": 5
}
