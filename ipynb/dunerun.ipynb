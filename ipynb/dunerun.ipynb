{
 "cells": [
  {
   "cell_type": "markdown",
   "id": "48d1ac21-662f-404c-9cda-308aa204d1ec",
   "metadata": {},
   "source": [
    "# dunerun.ipynb\n",
    "This notebook shows how to use [dunesw-support](https://github.com/dladams/dunesw-support) to use *dunesw* and other DUNE SW from a notebook.  \n",
    "\n",
    "First connect to a Jupyter machine where DUNE cvmfs is available e.g. <https://analytics-hub.fnal.gov>, open a terminal and and follow the [instructions](https://github.com/dladams/dunesw-support#readme) to install *dunesw-support*.\n",
    "Here we assume the package is installed at ~/proc/install/dunesw-support but any location is fine.  \n",
    "\n",
    "Copy this noteboook dunerun.ipynb from the installation area to a directory of your choosing and open the copy on Jupyter.\n",
    "Since you are reading this, you have likely already done so.  \n",
    "\n",
    "Run the *dunesw-support* setup (change the location to match your installation) and import dunerun and other packages of interest:"
   ]
  },
  {
   "cell_type": "code",
   "execution_count": 1,
   "id": "337194de-c89d-476a-bc0a-47d8f11f98b9",
   "metadata": {},
   "outputs": [],
   "source": [
    "%run ~/proc/install/dunesw-support/python/setup.py\n",
    "import sys\n",
    "import dunerun"
   ]
  },
  {
   "cell_type": "markdown",
   "id": "bc47feeb-8a9b-44fc-b72e-b6fd65446242",
   "metadata": {},
   "source": [
    "The *dunerun* module provides a class *DuneRun* that can be used to run command is various DUNE environnments.  \n",
    "Construct with no arguments to run without any setup: "
   ]
  },
  {
   "cell_type": "code",
   "execution_count": 2,
   "id": "5fb920b5-4020-42cb-9d9b-57f3032ffadf",
   "metadata": {},
   "outputs": [
    {
     "name": "stdout",
     "output_type": "stream",
     "text": [
      "-------------------------------------\n",
      "Wed Mar  2 14:15:35 UTC 2022\n",
      "-------------------------------------\n",
      "total 0\n",
      "0 drwxr-xr-x. 5 dladams fnalgrid 3 Jan 20 14:43 build\n",
      "0 drwxr-xr-x. 3 dladams fnalgrid 1 Jan 18 14:47 dev\n",
      "0 drwxr-xr-x. 3 dladams fnalgrid 2 Feb 28 14:52 example\n",
      "0 drwxr-xr-x. 8 dladams fnalgrid 9 Feb 28 15:46 install\n",
      "0 drwxr-xr-x. 4 dladams fnalgrid 2 Feb 15 15:55 pkgs\n",
      "0 drwxr-xr-x. 3 dladams fnalgrid 2 Feb  8 15:01 run01\n",
      "0 drwxr-xr-x. 3 dladams fnalgrid 1 Feb  7 15:34 tmp\n",
      "0 drwxr-xr-x. 3 dladams fnalgrid 1 Mar  1 14:09 tutorials\n",
      "-------------------------------------\n"
     ]
    }
   ],
   "source": [
    "line = \"-------------------------------------\"\n",
    "shell = dunerun.DuneRun()\n",
    "print(line)\n",
    "shell.run('date')\n",
    "print(line)\n",
    "shell.run('ls -ls ~/proc')\n",
    "print(line)"
   ]
  },
  {
   "cell_type": "markdown",
   "id": "eec172ea-b139-4878-a09f-07d33313be46",
   "metadata": {},
   "source": [
    "Use the argument \"dune\" to set up ups with out setting up and packages. This is useful to see what versions of a package are available."
   ]
  },
  {
   "cell_type": "code",
   "execution_count": 3,
   "id": "7685aa77-f478-4583-9c24-fb7462f1463c",
   "metadata": {},
   "outputs": [
    {
     "name": "stdout",
     "output_type": "stream",
     "text": [
      "\"dunesw\" \"v09_41_00_02\" \"Linux64bit+3.10-2.17\" \"e20:prof\" \"\" \n",
      "\"dunesw\" \"v09_41_00_02\" \"Linux64bit+3.10-2.17\" \"debug:e20\" \"\" \n",
      "\"dunesw\" \"v09_41_00_02\" \"Linux64bit+3.10-2.17\" \"c7:debug\" \"\" \n",
      "\"dunesw\" \"v09_41_00_02\" \"Linux64bit+3.10-2.17\" \"c7:prof\" \"\" \n",
      "\"dunesw\" \"v09_42_00\" \"Linux64bit+3.10-2.17\" \"e20:prof\" \"\" \n",
      "\"dunesw\" \"v09_42_00\" \"Linux64bit+3.10-2.17\" \"debug:e20\" \"\" \n",
      "\"dunesw\" \"v09_42_00\" \"Linux64bit+3.10-2.17\" \"c7:prof\" \"\" \n",
      "\"dunesw\" \"v09_42_00\" \"Linux64bit+3.10-2.17\" \"c7:debug\" \"\" \n",
      "\"dunesw\" \"v09_42_00_01\" \"Linux64bit+3.10-2.17\" \"c7:debug\" \"\" \n",
      "\"dunesw\" \"v09_42_00_01\" \"Linux64bit+3.10-2.17\" \"c7:prof\" \"\" \n",
      "\"dunesw\" \"v09_42_00_01\" \"Linux64bit+3.10-2.17\" \"debug:e20\" \"\" \n",
      "\"dunesw\" \"v09_42_00_01\" \"Linux64bit+3.10-2.17\" \"e20:prof\" \"\" \n",
      "\"dunesw\" \"v09_42_02_00\" \"Linux64bit+3.10-2.17\" \"e20:prof\" \"\" \n",
      "\"dunesw\" \"v09_42_02_00\" \"Linux64bit+3.10-2.17\" \"debug:e20\" \"\" \n",
      "\"dunesw\" \"v09_42_02_00\" \"Linux64bit+3.10-2.17\" \"c7:debug\" \"\" \n",
      "\"dunesw\" \"v09_42_02_00\" \"Linux64bit+3.10-2.17\" \"c7:prof\" \"\" \n",
      "\"dunesw\" \"v09_42_03_00\" \"Linux64bit+3.10-2.17\" \"c7:prof\" \"\" \n",
      "\"dunesw\" \"v09_42_03_00\" \"Linux64bit+3.10-2.17\" \"debug:e20\" \"\" \n",
      "\"dunesw\" \"v09_42_03_00\" \"Linux64bit+3.10-2.17\" \"c7:debug\" \"\" \n",
      "\"dunesw\" \"v09_42_03_00\" \"Linux64bit+3.10-2.17\" \"e20:prof\" \"\" \n",
      "\"dunesw\" \"v09_42_03_01\" \"Linux64bit+3.10-2.17\" \"c7:prof\" \"\" \n",
      "\"dunesw\" \"v09_42_03_01\" \"Linux64bit+3.10-2.17\" \"c7:debug\" \"\" \n",
      "\"dunesw\" \"v09_42_03_01\" \"Linux64bit+3.10-2.17\" \"debug:e20\" \"\" \n",
      "\"dunesw\" \"v09_42_03_01\" \"Linux64bit+3.10-2.17\" \"e20:prof\" \"\" \n",
      "\"dunesw\" \"v09_42_04_00\" \"Linux64bit+3.10-2.17\" \"debug:e20\" \"\" \n",
      "\"dunesw\" \"v09_42_04_00\" \"Linux64bit+3.10-2.17\" \"e20:prof\" \"\" \n",
      "\"dunesw\" \"v09_42_04_00\" \"Linux64bit+3.10-2.17\" \"c7:debug\" \"\" \n",
      "\"dunesw\" \"v09_42_04_00\" \"Linux64bit+3.10-2.17\" \"c7:prof\" \"\" \n",
      "\"dunesw\" \"v09_43_00_00\" \"Linux64bit+3.10-2.17\" \"c7:debug\" \"\" \n",
      "\"dunesw\" \"v09_43_00_00\" \"Linux64bit+3.10-2.17\" \"debug:e20\" \"\" \n",
      "\"dunesw\" \"v09_43_00_00\" \"Linux64bit+3.10-2.17\" \"e20:prof\" \"\" \n",
      "\"dunesw\" \"v09_43_00_00\" \"Linux64bit+3.10-2.17\" \"c7:prof\" \"\" \n"
     ]
    }
   ],
   "source": [
    "dune = dunerun.DuneRun('dune')\n",
    "dune.run('ups list -aK+ dunesw')"
   ]
  },
  {
   "cell_type": "markdown",
   "id": "bafdb772-53ab-4a64-9028-1121515a7632",
   "metadata": {},
   "source": [
    "Use a dune package name followed by colon-separated version and qualifiers to set up that package.  \n",
    "Here we ask for help and then run the fcl tests for *dunesw*."
   ]
  },
  {
   "cell_type": "code",
   "execution_count": 5,
   "id": "537b9f4c-ae99-4f3e-98cc-507e6e8e2e16",
   "metadata": {},
   "outputs": [
    {
     "name": "stdout",
     "output_type": "stream",
     "text": [
      "-------------------------------------\n",
      "Welcome to dunetpc \n",
      "Some available commands:\n",
      "              duneHelp - Display information about the current setup of dunetpc.\n",
      "                   lar - Run the art/larsoft event looop e.g. to process event data.\n",
      "  product_sizes_dumper - Display the products and size in an event data file.\n",
      "               fcldump - Display the resolved configuration for a fcl file.\n",
      "               liblist - List available plugin libraries.\n",
      "        pdChannelRange - Display protoDUNE channel grops and ranges.\n",
      "           duneRunData - Display run data for a run.\n",
      "           duneTestFcl - Test some high-level fcl configurations.\n",
      "Use option \"-h\" with any of these for more information.\n",
      "-------------------------------------\n",
      "iceberg3_decode_reco.fcl is ok\n",
      "iceberg4a_decode_reco.fcl is ok\n",
      "iceberg4b_decode_reco.fcl is ok\n",
      "iceberg5_decode_reco.fcl is ok\n",
      "standard_reco_dune10kt_nu_1x2x6.fcl is ok\n",
      "vdcoldbox_raw_dataprep.fcl is ok\n",
      "vdcoldbox_raw_tdedataprep.fcl is ok\n",
      "hdcoldbox_raw_dataprep.fcl is ok\n",
      "protodune_dqm.fcl is ok\n",
      "protodune_dqm2.fcl is ok\n",
      "iceberg3_dqm1.fcl is ok\n",
      "iceberg4_dqm1.fcl is ok\n",
      "iceberg5cond_dqm1.fcl is ok\n",
      "All 13 fcl files processed successfully.\n",
      "-------------------------------------\n"
     ]
    }
   ],
   "source": [
    "dsw = dunerun.DuneRun('dunesw', 'v09_43_00_00:e20:prof')\n",
    "print(line)\n",
    "dsw.run('duneHelp')\n",
    "print(line)\n",
    "dsw.run('duneTestFcl')\n",
    "print(line)"
   ]
  },
  {
   "cell_type": "code",
   "execution_count": null,
   "id": "68e9d25f-0b7c-408f-a350-7061efd2c3ed",
   "metadata": {},
   "outputs": [],
   "source": []
  }
 ],
 "metadata": {
  "kernelspec": {
   "display_name": "Python 3 (ipykernel)",
   "language": "python",
   "name": "python3"
  },
  "language_info": {
   "codemirror_mode": {
    "name": "ipython",
    "version": 3
   },
   "file_extension": ".py",
   "mimetype": "text/x-python",
   "name": "python",
   "nbconvert_exporter": "python",
   "pygments_lexer": "ipython3",
   "version": "3.8.6"
  }
 },
 "nbformat": 4,
 "nbformat_minor": 5
}
